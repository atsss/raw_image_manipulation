{
 "cells": [
  {
   "cell_type": "code",
   "execution_count": 2,
   "id": "8ad9be07-5dd6-4d6d-9660-e778d4f1913b",
   "metadata": {},
   "outputs": [],
   "source": [
    "from ultralytics import YOLO\n",
    "import matplotlib.pyplot as plt"
   ]
  },
  {
   "cell_type": "code",
   "execution_count": 4,
   "id": "abf4e943-0bfa-431a-a9aa-c1fb5c1fd7da",
   "metadata": {},
   "outputs": [
    {
     "name": "stderr",
     "output_type": "stream",
     "text": [
      "Downloading https://github.com/ultralytics/assets/releases/download/v8.3.0/yolo12n.pt to 'yolo12n.pt': 100%|██████████| 5.34M/5.34M [00:00<00:00, 16.2MB/s]\n"
     ]
    }
   ],
   "source": [
    "# Load the model\n",
    "model = YOLO(\"yolo12n.pt\")"
   ]
  },
  {
   "cell_type": "code",
   "execution_count": null,
   "id": "1b01a320-56a9-47e0-9ea1-cba2b2eec712",
   "metadata": {},
   "outputs": [],
   "source": [
    "# Predict with the model\n",
    "results = model.predict(\"https://ultralytics.com/images/bus.jpg\", device=\"cuda:0\", imgsz=320, conf=0.5)\n",
    "# Visualize predictions\n",
    "result_image = results[0].plot()\n",
    "# Save the image\n",
    "plt.imsave(\"output.png\", result_image)\n",
    "# Optionally: Show the image\n",
    "plt.imshow(result_image)\n",
    "plt.axis('off')\n",
    "plt.show()"
   ]
  }
 ],
 "metadata": {
  "kernelspec": {
   "display_name": "Python 3 (ipykernel)",
   "language": "python",
   "name": "python3"
  },
  "language_info": {
   "codemirror_mode": {
    "name": "ipython",
    "version": 3
   },
   "file_extension": ".py",
   "mimetype": "text/x-python",
   "name": "python",
   "nbconvert_exporter": "python",
   "pygments_lexer": "ipython3",
   "version": "3.13.2"
  }
 },
 "nbformat": 4,
 "nbformat_minor": 5
}
