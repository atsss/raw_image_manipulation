{
 "cells": [
  {
   "cell_type": "code",
   "execution_count": 1,
   "metadata": {},
   "outputs": [],
   "source": [
    "# Image sizes\n",
    "\n",
    "### LOW\n",
    "\n",
    "# width = 640\n",
    "# height = 480\n",
    "\n",
    "### HD\n",
    "\n",
    "# width = 1920\n",
    "# height = 1080\n",
    "\n",
    "### 2K\n",
    "\n",
    "width = 2592\n",
    "height = 1944\n",
    "\n",
    "# Bit depth (e.g. 8bpp, 10bpp, 12bpp, 14bpp, 16bpp)\n",
    "bpp = 8\n",
    "\n",
    "# Number of images to read\n",
    "n_images = 5\n",
    "\n"
   ]
  },
  {
   "cell_type": "code",
   "execution_count": 2,
   "metadata": {},
   "outputs": [],
   "source": [
    "import shutil, os\n",
    "\n",
    "# Empty the raw_images and dng_images directories\n",
    "if os.path.exists('raw_images'):\n",
    "    shutil.rmtree('raw_images')\n",
    "\n",
    "if os.path.exists('dng_images'):\n",
    "    shutil.rmtree('dng_images')\n",
    "\n",
    "os.mkdir('raw_images')\n",
    "os.mkdir('dng_images')\n"
   ]
  },
  {
   "cell_type": "code",
   "execution_count": 3,
   "metadata": {},
   "outputs": [],
   "source": [
    "# import subprocess\n",
    "# Not working\n",
    "# basedir = '/home/pi/cookpad/repo/cookpad-moment'\n",
    "# subprocess.call(f'scp root@192.168.4.2:/home/root/outputs {os.path.join(basedir,'notebooks/stm32/')}' )"
   ]
  },
  {
   "cell_type": "code",
   "execution_count": 4,
   "metadata": {},
   "outputs": [
    {
     "ename": "ModuleNotFoundError",
     "evalue": "No module named 'numpy'",
     "output_type": "error",
     "traceback": [
      "\u001b[31m---------------------------------------------------------------------------\u001b[39m",
      "\u001b[31mModuleNotFoundError\u001b[39m                       Traceback (most recent call last)",
      "\u001b[36mCell\u001b[39m\u001b[36m \u001b[39m\u001b[32mIn[4]\u001b[39m\u001b[32m, line 1\u001b[39m\n\u001b[32m----> \u001b[39m\u001b[32m1\u001b[39m \u001b[38;5;28;01mimport\u001b[39;00m\u001b[38;5;250m \u001b[39m\u001b[34;01mnumpy\u001b[39;00m\u001b[38;5;250m \u001b[39m\u001b[38;5;28;01mas\u001b[39;00m\u001b[38;5;250m \u001b[39m\u001b[34;01mnp\u001b[39;00m\n\u001b[32m      2\u001b[39m \u001b[38;5;28;01mimport\u001b[39;00m\u001b[38;5;250m \u001b[39m\u001b[34;01mmatplotlib\u001b[39;00m\u001b[34;01m.\u001b[39;00m\u001b[34;01mpyplot\u001b[39;00m\u001b[38;5;250m \u001b[39m\u001b[38;5;28;01mas\u001b[39;00m\u001b[38;5;250m \u001b[39m\u001b[34;01mplt\u001b[39;00m\n\u001b[32m      4\u001b[39m image_size = width * height * bpp // \u001b[32m8\u001b[39m \u001b[38;5;66;03m# 2 bytes per pixel\u001b[39;00m\n",
      "\u001b[31mModuleNotFoundError\u001b[39m: No module named 'numpy'"
     ]
    }
   ],
   "source": [
    "import numpy as np\n",
    "import matplotlib.pyplot as plt\n",
    "\n",
    "image_size = width * height * bpp // 8 # 2 bytes per pixel\n",
    "\n",
    "filename = 'capture.raw'\n",
    "\n",
    "with open(filename, 'rb') as f:\n",
    "    for i in range(n_images):\n",
    "\n",
    "        raw_data = f.read(image_size)\n",
    "        if not raw_data:\n",
    "            print(f\"Reached the end of the file at image {i+1}.\")\n",
    "            break\n",
    "        \n",
    "        if bpp == 8:\n",
    "            image = np.frombuffer(raw_data, dtype=np.uint8)\n",
    "        elif bpp == 16:\n",
    "            image = np.frombuffer(raw_data, dtype=np.uint16)\n",
    "        else:\n",
    "            raise NotImplemented(\"Only 8bpp and 16bpp are supported.\")\n",
    "\n",
    "        image = image.reshape((height, width))\n",
    "\n",
    "        # Save raw images\n",
    "        with open(os.path.join('raw_images', f\"raw_{i+1}.raw\"), 'wb') as g:\n",
    "            g.write(raw_data)\n",
    "\n",
    "        plt.imshow(image)\n",
    "        plt.title(f\"Image {i+1}\")\n",
    "        plt.axis('off')\n",
    "        plt.show()\n"
   ]
  },
  {
   "cell_type": "code",
   "execution_count": null,
   "metadata": {},
   "outputs": [],
   "source": [
    "image.min()"
   ]
  },
  {
   "cell_type": "code",
   "execution_count": null,
   "metadata": {},
   "outputs": [],
   "source": [
    "import os\n",
    "import numpy as np\n",
    "# from pydng.core import RPICAM2DNG\n",
    "from pidng.core import RAW2DNG, DNGTags, Tag\n",
    "from pidng.defs import *\n",
    "import struct\n",
    "\n",
    "import rawpy\n",
    "\n",
    "# Uncomment to zoom & pan within image:\n",
    "%matplotlib widget\n",
    "\n",
    "# Configuration\n",
    "bayer_pattern = CFAPattern.BGGR\n",
    "iso_gain = 100\n",
    "exposure_time = 20e3  # microseconds\n",
    "numPixels = width*height\n",
    "\n",
    "for i in range(n_images):\n",
    "\n",
    "    rawFile = os.path.join('raw_images', f\"raw_{i+1}.raw\")\n",
    "    rf = open(rawFile, mode='rb')\n",
    "\n",
    "    if bpp == 8:\n",
    "        rawData = struct.unpack(\"B\"*numPixels,rf.read(numPixels))\n",
    "    elif bpp == 16:\n",
    "        rawData = struct.unpack(\"H\"*numPixels,rf.read(2*numPixels))\n",
    "    else:\n",
    "        raise NotImplemented(\"Only 8bpp and 16bpp are supported.\")\n",
    "\n",
    "    rawFlatImage = np.zeros(numPixels, dtype=np.uint16)\n",
    "    rawFlatImage[:] = rawData[:] \n",
    "\n",
    "    if bpp == 16:\n",
    "        rawImage = rawImage >> (16 - bpp)\n",
    "\n",
    "    rawImage = np.reshape(rawFlatImage,(height,width))\n",
    "\n",
    "    #TODO: validate this is ballpark correct. Got from PyDNG demo\n",
    "    ccm1 = [[19549, 10000], [-7877, 10000], [-2582, 10000],\t\n",
    "            [-5724, 10000], [10121, 10000], [1917, 10000],\n",
    "            [-1267, 10000], [ -110, 10000], [ 6621, 10000]]\n",
    "\n",
    "    # set DNG tags.\n",
    "    t = DNGTags()\n",
    "    t.set(Tag.ImageWidth, width)\n",
    "    t.set(Tag.ImageLength, height)\n",
    "    t.set(Tag.TileWidth, width)\n",
    "    t.set(Tag.TileLength, height)\n",
    "    t.set(Tag.Orientation, Orientation.Horizontal)\n",
    "    t.set(Tag.PhotometricInterpretation, PhotometricInterpretation.Color_Filter_Array)\n",
    "    t.set(Tag.SamplesPerPixel, 1)\n",
    "    t.set(Tag.BitsPerSample, bpp)\n",
    "    t.set(Tag.CFARepeatPatternDim, [2,2])\n",
    "    t.set(Tag.CFAPattern, bayer_pattern)\n",
    "\n",
    "    #TODO: Are these calculations correct for both 8bpp and 16bpp?\n",
    "    # t.set(Tag.BlackLevel, (4096 >> (16 - bpp)))\n",
    "    # Our actual black level is 4 at 8 bpp\n",
    "    t.set(Tag.BlackLevel, (4 << (bpp-8)))\n",
    "    t.set(Tag.WhiteLevel, ((1 << bpp) -1) )\n",
    "\n",
    "    t.set(Tag.ColorMatrix1, ccm1)\n",
    "    t.set(Tag.CalibrationIlluminant1, CalibrationIlluminant.D65)\n",
    "    t.set(Tag.AsShotNeutral, [[1,1],[1,1],[1,1]])\n",
    "    t.set(Tag.BaselineExposure, [[-150,100]])\n",
    "    t.set(Tag.Make, \"OmniVision\")\n",
    "    t.set(Tag.Model, \"OV5640\")\n",
    "    t.set(Tag.DNGVersion, DNGVersion.V1_4)\n",
    "    t.set(Tag.DNGBackwardVersion, DNGVersion.V1_2)\n",
    "    t.set(Tag.PreviewColorSpace, PreviewColorSpace.sRGB)\n",
    "\n",
    "    # save to dng file.\n",
    "    r = RAW2DNG()\n",
    "    r.options(t, path='dng_images', compress=False)\n",
    "    r.convert(rawImage, filename=f\"dng_{i+1}.dng\")\n",
    "\n",
    "    # Display only last image:\n",
    "    if i != n_images - 1:\n",
    "        continue\n",
    "        \n",
    "    with rawpy.imread(os.path.join('dng_images', f'dng_{i+1}.dng')) as raw:\n",
    "\n",
    "        # Demosaic the image\n",
    "        rgb_base = raw.postprocess()\n",
    "\n",
    "        # Plot the post correction flat-field image\n",
    "        plt.figure()\n",
    "        plt.imshow(rgb_base)\n",
    "        plt.axis('off')\n",
    "        plt.title('DNG image')\n",
    "        plt.show()"
   ]
  },
  {
   "cell_type": "code",
   "execution_count": null,
   "metadata": {},
   "outputs": [],
   "source": [
    "dir(raw)"
   ]
  },
  {
   "cell_type": "code",
   "execution_count": null,
   "metadata": {},
   "outputs": [],
   "source": [
    "raw.raw_image"
   ]
  },
  {
   "cell_type": "raw",
   "metadata": {},
   "source": [
    "# # Uncomment for dark analysis:\n",
    "# plt.figure();\n",
    "# plt.hist(rgb_base[:,:,0].ravel(), bins=50, histtype='step', label='R');\n",
    "# plt.hist(rgb_base[:,:,1].ravel(), bins=50, histtype='step', label='G');\n",
    "# plt.hist(rgb_base[:,:,2].ravel(), bins=50, histtype='step', label='B');\n",
    "# plt.legend()\n",
    "\n",
    "# print( f'Red 99.9th percentile value: {np.percentile(rgb_base[:,:,0].ravel(), 99.9)}' )\n",
    "# print( f'Green 99.9th percentile value: {np.percentile(rgb_base[:,:,1].ravel(), 99.9)}' )\n",
    "# print( f'Blue 99.9th percentile value: {np.percentile(rgb_base[:,:,2].ravel(), 99.9)}' )"
   ]
  },
  {
   "cell_type": "code",
   "execution_count": null,
   "metadata": {},
   "outputs": [],
   "source": [
    "# Show r/g ratio\n",
    "plt.figure();\n",
    "plt.imshow(rgb_base[:,:,0] / rgb_base[:,:,1], vmin=0.8, vmax=1.2);\n",
    "plt.colorbar();\n",
    "# Run the end cell before this in order for these to be correct:\n",
    "plt.title(f'Red / Green Ratio, Vendor: {mfr} FOV: {FOV}');"
   ]
  },
  {
   "cell_type": "code",
   "execution_count": null,
   "metadata": {},
   "outputs": [],
   "source": [
    "# # Move images to proper place:\n",
    "\n",
    "# Keep commented until use to avoid overwriting stuff\n",
    "\n",
    "import shutil\n",
    "import os\n",
    "\n",
    "basedir = '/home/pi/cookpad/repo/cookpad-moment'\n",
    "outdir = '/home/pi/cookpad/OV-module-tests'\n",
    "mfr = 'Donguang_Meigang'\n",
    "FOV = '70'\n",
    "test = 'home6_diffuser'\n",
    "# shutil.copy(os.path.join(basedir, 'notebooks/stm32/outputs'),\n",
    "#             os.path.join(outdir, f'{mfr}/FOV_{FOV}/outputs_{test}') )\n",
    "# shutil.copy(os.path.join(basedir, 'notebooks/stm32/dng_images/dng_15.dng'),\n",
    "#             os.path.join(outdir, f'{mfr}/FOV_{FOV}/{test}.dng') )\n",
    "# shutil.copy(os.path.join(basedir, 'notebooks/stm32/raw_images/raw_15.raw'),\n",
    "#             os.path.join(outdir, f'{mfr}/FOV_{FOV}/{test}.raw') )"
   ]
  },
  {
   "cell_type": "code",
   "execution_count": null,
   "metadata": {},
   "outputs": [],
   "source": []
  }
 ],
 "metadata": {
  "kernelspec": {
   "display_name": "Python 3 (ipykernel)",
   "language": "python",
   "name": "python3"
  },
  "language_info": {
   "codemirror_mode": {
    "name": "ipython",
    "version": 3
   },
   "file_extension": ".py",
   "mimetype": "text/x-python",
   "name": "python",
   "nbconvert_exporter": "python",
   "pygments_lexer": "ipython3",
   "version": "3.13.2"
  }
 },
 "nbformat": 4,
 "nbformat_minor": 4
}
