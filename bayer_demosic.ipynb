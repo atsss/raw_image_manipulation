{
 "cells": [
  {
   "cell_type": "code",
   "execution_count": 1,
   "id": "a36523e3-7797-4640-8e31-44da8d4b7a6e",
   "metadata": {},
   "outputs": [],
   "source": [
    "import numpy as np\n",
    "import matplotlib.pyplot as plt\n",
    "from skimage import color, img_as_ubyte"
   ]
  },
  {
   "cell_type": "code",
   "execution_count": 2,
   "id": "9f2ecff0-00f1-442f-843f-5530ec74ae8d",
   "metadata": {},
   "outputs": [],
   "source": [
    "# 1. 仮のフルカラー画像（元の理想的なRGB）\n",
    "# 分かりやすくグラデーションと色変化を持たせる\n",
    "h, w = 8, 8\n",
    "x = np.linspace(0, 1, w)\n",
    "y = np.linspace(0, 1, h)\n",
    "X, Y = np.meshgrid(x, y)\n",
    "R = X          # 赤 = 横方向グラデーション\n",
    "G = Y          # 緑 = 縦方向グラデーション\n",
    "B = 1 - X      # 青 = 横方向反転\n",
    "rgb_full = np.stack([R, G, B], axis=2)"
   ]
  },
  {
   "cell_type": "code",
   "execution_count": 3,
   "id": "728bb6e0-8bdc-4bcc-95e7-db0387b4baa9",
   "metadata": {},
   "outputs": [],
   "source": [
    "# 2. Bayer配列(RGGB)をシミュレーションしてRAW作成\n",
    "raw = np.zeros((h, w))\n",
    "# R位置\n",
    "raw[0::2, 0::2] = rgb_full[0::2, 0::2, 0]\n",
    "# G位置（行偶数・列奇数 と 行奇数・列偶数）\n",
    "raw[0::2, 1::2] = rgb_full[0::2, 1::2, 1]\n",
    "raw[1::2, 0::2] = rgb_full[1::2, 0::2, 1]\n",
    "# B位置\n",
    "raw[1::2, 1::2] = rgb_full[1::2, 1::2, 2]"
   ]
  },
  {
   "cell_type": "code",
   "execution_count": 5,
   "id": "6b09650f-473b-44f5-b8ed-2919d48a9ebe",
   "metadata": {},
   "outputs": [
    {
     "ename": "ImportError",
     "evalue": "cannot import name 'demosaic' from 'skimage.color' (/Users/ats/hobbies/process_raw_image/.venv/lib/python3.13/site-packages/skimage/color/__init__.py)",
     "output_type": "error",
     "traceback": [
      "\u001b[31m---------------------------------------------------------------------------\u001b[39m",
      "\u001b[31mImportError\u001b[39m                               Traceback (most recent call last)",
      "\u001b[36mCell\u001b[39m\u001b[36m \u001b[39m\u001b[32mIn[5]\u001b[39m\u001b[32m, line 2\u001b[39m\n\u001b[32m      1\u001b[39m \u001b[38;5;66;03m# 3. デモザイク処理（scikit-image の簡易アルゴリズム）\u001b[39;00m\n\u001b[32m----> \u001b[39m\u001b[32m2\u001b[39m \u001b[38;5;28;01mfrom\u001b[39;00m\u001b[38;5;250m \u001b[39m\u001b[34;01mskimage\u001b[39;00m\u001b[34;01m.\u001b[39;00m\u001b[34;01mcolor\u001b[39;00m\u001b[38;5;250m \u001b[39m\u001b[38;5;28;01mimport\u001b[39;00m demosaic\n\u001b[32m      3\u001b[39m rgb_demosaiced = demosaic_bayer(img_as_ubyte(raw), pattern=\u001b[33m\"\u001b[39m\u001b[33mRGGB\u001b[39m\u001b[33m\"\u001b[39m)\n",
      "\u001b[31mImportError\u001b[39m: cannot import name 'demosaic' from 'skimage.color' (/Users/ats/hobbies/process_raw_image/.venv/lib/python3.13/site-packages/skimage/color/__init__.py)"
     ]
    }
   ],
   "source": [
    "# 3. デモザイク処理（scikit-image の簡易アルゴリズム）\n",
    "from skimage.color import demosaic\n",
    "rgb_demosaiced = demosaic_bayer(img_as_ubyte(raw), pattern=\"RGGB\")"
   ]
  },
  {
   "cell_type": "code",
   "execution_count": null,
   "id": "0cef8041-7e12-4dc5-9a45-cdbb7f022c47",
   "metadata": {},
   "outputs": [],
   "source": []
  }
 ],
 "metadata": {
  "kernelspec": {
   "display_name": "Python 3 (ipykernel)",
   "language": "python",
   "name": "python3"
  },
  "language_info": {
   "codemirror_mode": {
    "name": "ipython",
    "version": 3
   },
   "file_extension": ".py",
   "mimetype": "text/x-python",
   "name": "python",
   "nbconvert_exporter": "python",
   "pygments_lexer": "ipython3",
   "version": "3.13.2"
  }
 },
 "nbformat": 4,
 "nbformat_minor": 5
}
